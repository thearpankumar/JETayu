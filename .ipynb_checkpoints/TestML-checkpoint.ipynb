{
 "cells": [
  {
   "cell_type": "code",
   "execution_count": 7,
   "id": "ccbe0c47",
   "metadata": {},
   "outputs": [],
   "source": [
    "import tensorflow\n",
    "import torch\n",
    "import pickle\n",
    "import PyPDF2\n"
   ]
  },
  {
   "cell_type": "markdown",
   "id": "245e96d0-5080-4f46-845b-f2c035422c6f",
   "metadata": {
    "pycharm": {
     "is_executing": true
    }
   },
   "source": [
    "### Start ML "
   ]
  },
  {
   "cell_type": "code",
   "execution_count": null,
   "id": "f6f36bbf-4e79-4074-9290-0010ed33e324",
   "metadata": {},
   "outputs": [],
   "source": []
  }
 ],
 "metadata": {
  "kernelspec": {
   "display_name": "Python 3 (ipykernel)",
   "language": "python",
   "name": "python3"
  },
  "language_info": {
   "codemirror_mode": {
    "name": "ipython",
    "version": 3
   },
   "file_extension": ".py",
   "mimetype": "text/x-python",
   "name": "python",
   "nbconvert_exporter": "python",
   "pygments_lexer": "ipython3",
   "version": "3.9.16"
  }
 },
 "nbformat": 4,
 "nbformat_minor": 5
}
